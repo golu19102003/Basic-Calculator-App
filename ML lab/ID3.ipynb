{
  "cells": [
    {
      "cell_type": "markdown",
      "metadata": {
        "id": "view-in-github",
        "colab_type": "text"
      },
      "source": [
        "<a href=\"https://colab.research.google.com/github/golu19102003/Basic-Calculator-App/blob/master/ML%20lab/ID3.ipynb\" target=\"_parent\"><img src=\"https://colab.research.google.com/assets/colab-badge.svg\" alt=\"Open In Colab\"/></a>"
      ]
    },
    {
      "cell_type": "markdown",
      "metadata": {
        "id": "RBWNeAm5x-f9"
      },
      "source": [
        "### Write a program to demonstrate the working of the decision tree based ID3 algorithm. Use an appropriate data set for building the decision tree and apply this knowledge toclassify a new sample"
      ]
    },
    {
      "cell_type": "code",
      "execution_count": null,
      "metadata": {
        "colab": {
          "base_uri": "https://localhost:8080/"
        },
        "id": "EmRROYJJ6a5u",
        "outputId": "e4379a87-8704-4b1d-be99-60053e08e870"
      },
      "outputs": [
        {
          "name": "stdout",
          "output_type": "stream",
          "text": [
            "     Outlook Temperature Humidity    Wind Answer\n",
            "0      sunny         hot     high    weak     no\n",
            "1      sunny         hot     high  strong     no\n",
            "2   overcast         hot     high    weak    yes\n",
            "3       rain        mild     high    weak    yes\n",
            "4       rain        cool   normal    weak    yes\n",
            "5       rain        cool   normal  strong     no\n",
            "6   overcast        cool   normal  strong    yes\n",
            "7      sunny        mild     high    weak     no\n",
            "8      sunny        cool   normal    weak    yes\n",
            "9       rain        mild   normal    weak    yes\n",
            "10     sunny        mild   normal  strong    yes\n",
            "11  overcast        mild     high  strong    yes\n",
            "12  overcast         hot   normal    weak    yes\n",
            "13      rain        mild     high  strong     no\n"
          ]
        }
      ],
      "source": [
        "import pandas as pd\n",
        "import numpy as np\n",
        "df_tennis = pd.read_csv('tennis.csv')\n",
        "print(df_tennis)"
      ]
    },
    {
      "cell_type": "code",
      "execution_count": null,
      "metadata": {
        "colab": {
          "base_uri": "https://localhost:8080/",
          "height": 36
        },
        "id": "8mVt2Hd48FxL",
        "outputId": "82913713-2b1b-4eeb-e28b-7c70d12c3e1f"
      },
      "outputs": [
        {
          "data": {
            "application/vnd.google.colaboratory.intrinsic+json": {
              "type": "string"
            },
            "text/plain": [
              "'Outlook'"
            ]
          },
          "execution_count": 9,
          "metadata": {},
          "output_type": "execute_result"
        }
      ],
      "source": [
        "df_tennis.keys()[0]"
      ]
    },
    {
      "cell_type": "code",
      "execution_count": null,
      "metadata": {
        "id": "4SGbEj_A8WCS"
      },
      "outputs": [],
      "source": [
        "# Entropy of the training data set\n",
        "from collections import Counter\n",
        "def entropy_list(a_list):\n",
        "    cnt = Counter(x for x in a_list)\n",
        "import math\n",
        "def entropy_list(a_list):\n",
        "    cnt = Counter(x for x in a_list)\n",
        "    num_instances = len(a_list)*1.0\n",
        "    probs = [x/num_instances for x in cnt.values()]\n",
        "  # Function to calculate the entropy of the probablity of observation\n",
        "    return entropy(probs)\n",
        "def entropy(probs):\n",
        "    return -sum(p*math.log(p,2) for p in probs if p>0)\n"
      ]
    },
    {
      "cell_type": "code",
      "execution_count": null,
      "metadata": {
        "id": "7YPIpvaF9C52"
      },
      "outputs": [],
      "source": [
        "\n",
        "# import math\n",
        "# def entropy(probs)\n",
        "# return sum ([-prob*math.log(prob,2) for prob in probs])"
      ]
    },
    {
      "cell_type": "code",
      "execution_count": null,
      "metadata": {
        "id": "HEYY7FYs-G9w"
      },
      "outputs": [],
      "source": [
        "def entroy_of_list(a_list):\n",
        "    print(\"A_list\",a_list)\n",
        "    from collections import Counter\n",
        "    cnt = Counter(x for x in a_list)\n",
        "    print(\"\\n Class : \" , cnt)\n",
        "    print(\"No and Yes Classes : \",a_list.name,cnt)\n",
        "    num_instances = len(a_list)*1.0\n",
        "    print(\"\\n Number of Instances of the Current Sub Class is {0}:\".format(num_instances))\n",
        "    probs = [x/num_instances for x in cnt.values()]\n",
        "    print(\"\\n Class : \", min(cnt),max(cnt))\n",
        "    print(\"\\n Probablities of class {0} is {1} :\" .format(min(cnt),min(probs)))\n",
        "    print(\"\\n Probablities of class {0} is {1} :\" .format(max(cnt),max(probs)))\n",
        "    return entropy(probs)\n",
        "\n",
        "    print(\"\\n INPUT DATA SET FOR ENTROPY CALCULATION :\\n \", df_tennis['PlayTennis'])\n",
        "    total_entropy = entropy_of_list(df_tennis['PlayTennis'])\n",
        "    print(\"\\n Total Entropy of PlayTennis Data Set : \",total_entropy)"
      ]
    },
    {
      "cell_type": "code",
      "execution_count": null,
      "metadata": {
        "colab": {
          "base_uri": "https://localhost:8080/"
        },
        "id": "YLyjq6uZewkK",
        "outputId": "6a468621-58d1-4a45-aefe-4bcf1c93943e"
      },
      "outputs": [
        {
          "name": "stdout",
          "output_type": "stream",
          "text": [
            "Information Gain Calculation of  Outlook\n",
            "Name:  overcast\n",
            "Group:       Outlook Temperature Humidity    Wind Answer\n",
            "2   overcast         hot     high    weak    yes\n",
            "6   overcast        cool   normal  strong    yes\n",
            "11  overcast        mild     high  strong    yes\n",
            "12  overcast         hot   normal    weak    yes\n",
            "Name:  rain\n",
            "Group:     Outlook Temperature Humidity    Wind Answer\n",
            "3     rain        mild     high    weak    yes\n",
            "4     rain        cool   normal    weak    yes\n",
            "5     rain        cool   normal  strong     no\n",
            "9     rain        mild   normal    weak    yes\n",
            "13    rain        mild     high  strong     no\n",
            "Name:  sunny\n",
            "Group:     Outlook Temperature Humidity    Wind Answer\n",
            "0    sunny         hot     high    weak     no\n",
            "1    sunny         hot     high  strong     no\n",
            "7    sunny        mild     high    weak     no\n",
            "8    sunny        cool   normal    weak    yes\n",
            "10   sunny        mild   normal  strong    yes\n",
            "['Answer']\n",
            "Entropy List <function entroy_of_list at 0x794d232c0ea0>\n",
            "DFAGGENT           entropy_of_list  <lambda_0>\n",
            "Outlook                              \n",
            "overcast        -0.000000    0.285714\n",
            "rain             0.970951    0.357143\n",
            "sunny            0.970951    0.357143\n",
            "Info-gain for Outlook is :0.2467498197744391 \n",
            "\n",
            "Information Gain Calculation of  Humidity\n",
            "Name:  high\n",
            "Group:       Outlook Temperature Humidity    Wind Answer\n",
            "0      sunny         hot     high    weak     no\n",
            "1      sunny         hot     high  strong     no\n",
            "2   overcast         hot     high    weak    yes\n",
            "3       rain        mild     high    weak    yes\n",
            "7      sunny        mild     high    weak     no\n",
            "11  overcast        mild     high  strong    yes\n",
            "13      rain        mild     high  strong     no\n",
            "Name:  normal\n",
            "Group:       Outlook Temperature Humidity    Wind Answer\n",
            "4       rain        cool   normal    weak    yes\n",
            "5       rain        cool   normal  strong     no\n",
            "6   overcast        cool   normal  strong    yes\n",
            "8      sunny        cool   normal    weak    yes\n",
            "9       rain        mild   normal    weak    yes\n",
            "10     sunny        mild   normal  strong    yes\n",
            "12  overcast         hot   normal    weak    yes\n",
            "['Answer']\n",
            "Entropy List <function entroy_of_list at 0x794d232c0ea0>\n",
            "DFAGGENT           entropy_of_list  <lambda_0>\n",
            "Humidity                             \n",
            "high             0.985228         0.5\n",
            "normal           0.591673         0.5\n",
            "Info-gain for Humidity is :0.15183550136234136 \n",
            "\n",
            "Information Gain Calculation of  Wind\n",
            "Name:  strong\n",
            "Group:       Outlook Temperature Humidity    Wind Answer\n",
            "1      sunny         hot     high  strong     no\n",
            "5       rain        cool   normal  strong     no\n",
            "6   overcast        cool   normal  strong    yes\n",
            "10     sunny        mild   normal  strong    yes\n",
            "11  overcast        mild     high  strong    yes\n",
            "13      rain        mild     high  strong     no\n",
            "Name:  weak\n",
            "Group:       Outlook Temperature Humidity  Wind Answer\n",
            "0      sunny         hot     high  weak     no\n",
            "2   overcast         hot     high  weak    yes\n",
            "3       rain        mild     high  weak    yes\n",
            "4       rain        cool   normal  weak    yes\n",
            "7      sunny        mild     high  weak     no\n",
            "8      sunny        cool   normal  weak    yes\n",
            "9       rain        mild   normal  weak    yes\n",
            "12  overcast         hot   normal  weak    yes\n",
            "['Answer']\n",
            "Entropy List <function entroy_of_list at 0x794d232c0ea0>\n",
            "DFAGGENT         entropy_of_list  <lambda_0>\n",
            "Wind                               \n",
            "strong         1.000000    0.428571\n",
            "weak           0.811278    0.571429\n",
            "Info-gain for Wind is :0.04812703040826927 \n",
            "\n"
          ]
        }
      ],
      "source": [
        "def information_gain(df,split_attribute_name,target_attribute_name,trace=0):\n",
        "    print(\"Information Gain Calculation of \",split_attribute_name)\n",
        "    df_split = df.groupby(split_attribute_name)\n",
        "    for name,group in df_split:\n",
        "      print(\"Name: \",name)\n",
        "      print(\"Group: \",group)\n",
        "\n",
        "    nobs = len(df.index)*1.0\n",
        "    df_agg_ent = df_split.agg({target_attribute_name:[entropy_of_list,lambda x:len(x)/nobs]})[target_attribute_name]\n",
        "    print([target_attribute_name])\n",
        "    print(\"Entropy List\",entroy_of_list)\n",
        "    print(\"DFAGGENT\",df_agg_ent)\n",
        "    df_agg_ent.columns = ['Entropy','PropObservations']\n",
        "    new_entropy = sum(df_agg_ent['Entropy']*df_agg_ent['PropObservations'])\n",
        "    old_entropy = entropy_of_list(df[target_attribute_name])\n",
        "    return old_entropy - new_entropy\n",
        "print(\"Info-gain for Outlook is :\"+str(information_gain(df_tennis,'Outlook','Answer',trace=0)),\"\\n\")\n",
        "print(\"Info-gain for Humidity is :\"+str(information_gain(df_tennis,'Humidity','Answer',trace=0)),\"\\n\")\n",
        "print(\"Info-gain for Wind is :\"+str(information_gain(df_tennis,'Wind','Answer',trace=0)),\"\\n\")\n"
      ]
    }
  ],
  "metadata": {
    "colab": {
      "provenance": [],
      "include_colab_link": true
    },
    "kernelspec": {
      "display_name": "Python 3",
      "name": "python3"
    },
    "language_info": {
      "name": "python"
    }
  },
  "nbformat": 4,
  "nbformat_minor": 0
}